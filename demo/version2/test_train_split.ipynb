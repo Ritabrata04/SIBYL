{
 "cells": [
  {
   "cell_type": "code",
   "execution_count": 1,
   "id": "1abb2bb8-c974-459e-bbde-b9536a7c3c9e",
   "metadata": {},
   "outputs": [],
   "source": [
    "import os\n",
    "import pandas as pd\n",
    "import random\n",
    "import string\n",
    "from sklearn.model_selection import train_test_split"
   ]
  },
  {
   "cell_type": "code",
   "execution_count": 2,
   "id": "aedd94aa-92a6-426d-b0ac-0cfea7d9090f",
   "metadata": {},
   "outputs": [],
   "source": [
    "path='synthetic_data_v2.csv' "
   ]
  },
  {
   "cell_type": "code",
   "execution_count": 3,
   "id": "aec724b8-03ca-41d9-9a7e-b997ba70ca7a",
   "metadata": {},
   "outputs": [],
   "source": [
    "df=pd.read_csv(path)"
   ]
  },
  {
   "cell_type": "code",
   "execution_count": 4,
   "id": "824e0266-3b83-4af9-88da-e5228aacba88",
   "metadata": {},
   "outputs": [],
   "source": [
    "#split\n",
    "train_df, test_df= train_test_split(df, test_size=0.20, random_state=42)"
   ]
  },
  {
   "cell_type": "code",
   "execution_count": 5,
   "id": "1ad13166-1dbf-4d77-86d6-94533cfa6400",
   "metadata": {},
   "outputs": [],
   "source": [
    "#here we save to our respective files\n",
    "#for custom split please modify to preferred path\n",
    "\n",
    "train_dir = 'dell_train'\n",
    "test_dir = 'dell_test'\n",
    "os.makedirs(train_dir, exist_ok=True)\n",
    "os.makedirs(test_dir, exist_ok=True)\n"
   ]
  },
  {
   "cell_type": "code",
   "execution_count": 6,
   "id": "e2cad62a-96ed-44c6-840b-dc5732fa1457",
   "metadata": {},
   "outputs": [],
   "source": [
    "# Saving the split datasets\n",
    "train_file_path = os.path.join(train_dir, 'train_data.csv')\n",
    "test_file_path = os.path.join(test_dir, 'test_data.csv')"
   ]
  },
  {
   "cell_type": "code",
   "execution_count": 7,
   "id": "81f2e6f0-796a-40dd-9dd7-28d29d95909e",
   "metadata": {},
   "outputs": [
    {
     "name": "stdout",
     "output_type": "stream",
     "text": [
      "Train dataset saved to dell_train\\train_data.csv\n",
      "Test dataset saved to dell_test\\test_data.csv\n"
     ]
    }
   ],
   "source": [
    "train_df.to_csv(train_file_path, index=False)\n",
    "test_df.to_csv(test_file_path, index=False)\n",
    "\n",
    "print(f\"Train dataset saved to {train_file_path}\")\n",
    "print(f\"Test dataset saved to {test_file_path}\")"
   ]
  },
  {
   "cell_type": "code",
   "execution_count": null,
   "id": "99a6124a-60f3-4022-9db2-523fc292b9c3",
   "metadata": {},
   "outputs": [],
   "source": []
  }
 ],
 "metadata": {
  "kernelspec": {
   "display_name": "Python [conda env:tensorflow]",
   "language": "python",
   "name": "conda-env-tensorflow-py"
  },
  "language_info": {
   "codemirror_mode": {
    "name": "ipython",
    "version": 3
   },
   "file_extension": ".py",
   "mimetype": "text/x-python",
   "name": "python",
   "nbconvert_exporter": "python",
   "pygments_lexer": "ipython3",
   "version": "3.9.16"
  }
 },
 "nbformat": 4,
 "nbformat_minor": 5
}
