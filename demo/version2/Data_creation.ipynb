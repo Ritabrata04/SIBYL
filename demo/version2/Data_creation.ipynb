{
 "cells": [
  {
   "cell_type": "code",
   "execution_count": 15,
   "id": "1df5853d-0b57-4507-931a-2fd5d20ea01e",
   "metadata": {},
   "outputs": [],
   "source": [
    "import pandas as pd\n",
    "import random\n",
    "import string"
   ]
  },
  {
   "cell_type": "code",
   "execution_count": 16,
   "id": "b5f72bfd-fb30-4798-81d0-e6475113b375",
   "metadata": {},
   "outputs": [],
   "source": [
    "num_entries=1600"
   ]
  },
  {
   "cell_type": "code",
   "execution_count": 19,
   "id": "48a6c0c2-2ea3-44f9-8366-073b2c96a8c8",
   "metadata": {},
   "outputs": [],
   "source": [
    "career_options=['Web developer','Software Engineer','Technical Support Specialist','Systems Engineer','DevOps Engineer','UX/UI Designer','Data Analyst',\n",
    "'Senior Systems Engineer','DevOps Manager','UX/UI Design Lead','Data Scientist','Engineering Manager','Product Manager','Technical Project Manager']"
   ]
  },
  {
   "cell_type": "code",
   "execution_count": 20,
   "id": "bc2e5b00-75d5-4504-8974-03c4e82b68bb",
   "metadata": {},
   "outputs": [],
   "source": [
    "age_range=(20,60)\n",
    "experience_range=(0,40)\n",
    "number_of_switches=(0,6)\n",
    "education_level=['Bachelors','Masters','PhD']"
   ]
  },
  {
   "cell_type": "code",
   "execution_count": 21,
   "id": "eb7b93b5-700d-4a84-834e-a45b1e1dace9",
   "metadata": {},
   "outputs": [],
   "source": [
    "#this is a helper function to generate a random name\n",
    "def random_name():\n",
    "    return ''.join(random.choices(string.ascii_letters, k=10))"
   ]
  },
  {
   "cell_type": "code",
   "execution_count": 22,
   "id": "f11b3c6c-4fe7-4f60-a659-512df8ae34bf",
   "metadata": {},
   "outputs": [],
   "source": [
    "#here we are generating the dataset\n",
    "data={\n",
    "    'Name': [random_name() for _ in range(num_entries)],\n",
    "    'Age': [random.randint(*age_range) for _ in range(num_entries)],\n",
    "    'Job_switches': [random.randint(*number_of_switches) for _ in range(num_entries)],\n",
    "    'Career': [random.choice(career_options) for _ in range(num_entries)],\n",
    "    'Education': [random.choice(education_level) for _ in range(num_entries)],\n",
    "    'Experience': [random.randint(*experience_range) for _ in range(num_entries)]\n",
    "    }"
   ]
  },
  {
   "cell_type": "code",
   "execution_count": 23,
   "id": "cac2a67a-895b-4851-b63c-ad5bfbee2319",
   "metadata": {},
   "outputs": [],
   "source": [
    "df = pd.DataFrame(data)"
   ]
  },
  {
   "cell_type": "code",
   "execution_count": 24,
   "id": "ec0b62f2-f2da-460c-8094-ad7afcd86328",
   "metadata": {},
   "outputs": [],
   "source": [
    "#export to csv here\n",
    "output_path='synthetic_data_v2.csv'\n",
    "df.to_csv(output_path, index=False)"
   ]
  },
  {
   "cell_type": "code",
   "execution_count": null,
   "id": "0cac44b1-8b3d-4d19-a291-bc317a90ee59",
   "metadata": {},
   "outputs": [],
   "source": []
  }
 ],
 "metadata": {
  "kernelspec": {
   "display_name": "Python [conda env:tensorflow]",
   "language": "python",
   "name": "conda-env-tensorflow-py"
  },
  "language_info": {
   "codemirror_mode": {
    "name": "ipython",
    "version": 3
   },
   "file_extension": ".py",
   "mimetype": "text/x-python",
   "name": "python",
   "nbconvert_exporter": "python",
   "pygments_lexer": "ipython3",
   "version": "3.9.16"
  }
 },
 "nbformat": 4,
 "nbformat_minor": 5
}
